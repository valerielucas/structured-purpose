{
 "cells": [
  {
   "cell_type": "code",
   "execution_count": null,
   "metadata": {},
   "outputs": [],
   "source": [
    "# Ensure that saving data_utils updates functions accessible in analysis.\n",
    "%reload_ext autoreload\n",
    "%autoreload 2"
   ]
  },
  {
   "cell_type": "code",
   "execution_count": null,
   "metadata": {},
   "outputs": [],
   "source": [
    "from data_utils import read_csv_rows\n",
    "from data_utils import columnar\n",
    "\n",
    "DATA_DIRECTORY=\"../../data\"\n",
    "DATA_FILE_PATH1=f\"{DATA_DIRECTORY}/radxup_project_characteristics.csv\"\n",
    "\n",
    "# Read and rearrange project characteristics.\n",
    "data_rows: list[dict[str, str]] = read_csv_rows(DATA_FILE_PATH1)\n",
    "data_cols: dict[str, list[str]] = columnar(data_rows)\n",
    "\n",
    "print(dict.keys(data_cols))\n",
    "print(data_cols[\"\\ufeffsite_number\"])"
   ]
  },
  {
   "cell_type": "code",
   "execution_count": null,
   "metadata": {},
   "outputs": [],
   "source": [
    "# Define demographic attributes of projects\n",
    "amer_indian: str = data_cols[\"amer_indian\"]\n",
    "pacific_islander: str = data_cols[\"pacific_islander\"]\n",
    "black: str = data_cols[\"black\"]\n",
    "hisp_latinx: str = data_cols[\"hisp_latinx\"]\n",
    "asian: str = data_cols[\"asian\"]\n",
    "imms_refs: str = data_cols[\"imms_refs\"]\n",
    "incarcerated: str = data_cols[\"incarcerated\"]\n",
    "drug_users: str = data_cols[\"drug_users\"]\n",
    "pregnant: str = data_cols[\"pregnant\"]\n",
    "youth: str = data_cols[\"youth\"]\n",
    "rural: str = data_cols[\"rural\"]\n",
    "low_ses: str = data_cols[\"low_ses\"]\n",
    "older: str = data_cols[\"older\"]\n",
    "disabled: str = data_cols[\"disabled\"]\n",
    "lgbtq: str = data_cols[\"lgbtq\"]\n",
    "\n",
    "sum_marginalized: str = data_cols[\"sum_marginalized\"] # Derived variable defined as the sum of \"low_ses\", \"incarcerated\", and \"drug_users\".\n",
    "sum_accessibility: str = data_cols[\"sum_accessibility\"] # Derived variable definied as the sum of \"older\" and \"disabled\".\n",
    "\n",
    "\n",
    "# Define study design attributes of projects.\n",
    "experimental: str = data_cols[\"experimental\"]\n",
    "observational: str = data_cols[\"observational\"]\n",
    "hybrid: str = data_cols[\"hybrid\"]\n",
    "repository: str = data_cols[\"repository\"]\n",
    "\n",
    "\n",
    "# Define temporal attributes of projects.\n",
    "cross_sectional: str = data_cols[\"cross_sectional\"]\n",
    "longitudinal: str = data_cols[\"longitudal\"]\n",
    "multi_temporal: str = data_cols[\"multi_temporal\"]\n",
    "\n",
    "\n",
    "# Define geographic area attributes of projects.\n",
    "northeast: str = data_cols[\"northeast\"]\n",
    "midwest: str = data_cols[\"midwest\"]\n",
    "south: str = data_cols[\"south\"]\n",
    "west: str = data_cols[\"west\"]\n",
    "territory: str = data_cols[\"territory\"]\n",
    "multistate: str = data_cols[\"multistate\"]\n",
    "\n",
    "\n",
    "# Define target numbers for project attributes.\n",
    "t1: int = 1\n",
    "t2: int = 2\n",
    "t3: int = 3\n",
    "t4: int = 4"
   ]
  },
  {
   "cell_type": "code",
   "execution_count": 1,
   "metadata": {},
   "outputs": [
    {
     "name": "stdout",
     "output_type": "stream",
     "text": [
      "56672074888.0\n"
     ]
    }
   ],
   "source": [
    "# Establish the count of ALL possible sample sets -- 69 choose 9, order does not matter.\n",
    "n = 69 * 68 * 67 * 66 * 65 * 64 * 63 * 62 * 61 / (9 * 8 * 7 * 6 * 5 * 4 * 3 * 2 * 1)\n",
    "print(n)"
   ]
  },
  {
   "cell_type": "code",
   "execution_count": null,
   "metadata": {},
   "outputs": [],
   "source": [
    "from data_utils import sample_initializer\n",
    "from data_utils import sample_adder\n",
    "\n",
    "# Set project attributes and targets for project count to construct possible sample sets.\n",
    "demographs = [lgbtq, rural, experimental, pregnant, youth, amer_indian, imms_refs, sum_marginalized, disabled]\n",
    "targets = [t1, t1, t1, t1, t1, t1, t1, t1, t1]\n",
    "\n",
    "# Initialize list of possible sample sets.\n",
    "sample_of_nine = sample_initializer(demographs[0])\n",
    "\n",
    "# Complete list of possible sample sets.\n",
    "for i in range(1,9):\n",
    "    sample_of_nine = sample_adder(sample_of_nine, demographs[i])\n",
    "\n",
    "len(sample_of_nine)"
   ]
  },
  {
   "cell_type": "code",
   "execution_count": null,
   "metadata": {},
   "outputs": [],
   "source": [
    "from data_utils import sample_checker\n",
    "\n",
    "# Set sequential attributes to narrow sample sets.\n",
    "char: list[str] =  [black, hisp_latinx, pacific_islander, older, repository, \n",
    "    low_ses, drug_users, incarcerated, longitudinal, cross_sectional,\n",
    "    south, hybrid, amer_indian, multi_temporal, youth,\n",
    "    midwest, west, northeast, multistate, rural,\n",
    "    south, experimental, observational, hybrid, disabled]\n",
    "\n",
    "# Set sequential targets for attributes to narrow sample sets.\n",
    "target: list[int] = [t4, t4, t1, t2, t1,\n",
    "    t2, t1, t1, t2, t2,\n",
    "    t1, t1, t2, t2, t2,\n",
    "    t1, t1, t1, t1, t2,\n",
    "    t2, t2, t2, t2, t2]\n",
    "\n",
    "# Narrow sample sets in listed order and print intermediate sample size after each step.\n",
    "i: int = 0\n",
    "while len(sample_of_nine) > 1:\n",
    "    sample_of_nine = sample_checker(sample_of_nine, char[i], target[i])\n",
    "    print(f\"Filter{i} ({char[i]} >= {target[i]}): {len(sample_of_nine)}\")\n",
    "    i += 1"
   ]
  },
  {
   "cell_type": "code",
   "execution_count": null,
   "metadata": {},
   "outputs": [],
   "source": [
    "# Return project numbers of final sample set.\n",
    "true_list: list[int] = []\n",
    "for i in range(len(sample_of_nine)):\n",
    "    for j in range(len(sample_of_nine[i])):\n",
    "        true_list.append((data_cols[\"project_number\"])[(sample_of_nine[i])[j]])\n",
    "\n",
    "print(true_list)"
   ]
  }
 ],
 "metadata": {
  "kernelspec": {
   "display_name": "Python 3.10.6 64-bit",
   "language": "python",
   "name": "python3"
  },
  "language_info": {
   "codemirror_mode": {
    "name": "ipython",
    "version": 3
   },
   "file_extension": ".py",
   "mimetype": "text/x-python",
   "name": "python",
   "nbconvert_exporter": "python",
   "pygments_lexer": "ipython3",
   "version": "3.10.6"
  },
  "orig_nbformat": 4,
  "vscode": {
   "interpreter": {
    "hash": "0c2e5a77a5f0375953c0912de8bc04e4614d0bcd21bfd2d31763009c13067a6b"
   }
  }
 },
 "nbformat": 4,
 "nbformat_minor": 2
}
